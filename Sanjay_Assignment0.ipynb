{
  "nbformat": 4,
  "nbformat_minor": 0,
  "metadata": {
    "colab": {
      "provenance": []
    },
    "kernelspec": {
      "name": "python3",
      "display_name": "Python 3"
    },
    "language_info": {
      "name": "python"
    }
  },
  "cells": [
    {
      "cell_type": "markdown",
      "source": [
        "# Assignment 0\n",
        "**Instrunctions for the assignment** \\\\\n",
        "\n",
        "*   Open Google Colab: Begin by launching Google Colab and creating a new Python notebook.\n",
        "*   Read Comments Carefully: Pay close attention to the comments provided within the codeblocks.\n",
        "\n",
        "\n",
        "*   Code Block Completion: Fill in the codeblocks as per the instructions given in the comments.\n",
        "*   Avoid Copying: Ensure that you understand the concepts and refrain from directly copying code from external sources.\n",
        "\n",
        "\n",
        "*   Execute Codeblocks: Verify that each codeblock runs without errors by executing them.\n",
        "*   Save and Submit: Once you've completed the assignment, save your notebook and follow the submission guidelines provided by your instructor.\n",
        "\n",
        "\n",
        "\n",
        "\n",
        "\n",
        "\n",
        "\n",
        "\n",
        "\n",
        "\n",
        "**Notes:**\n",
        "\n",
        "Encouragement: Take your time to understand the concepts behind each codeblock. This assignment aims to strengthen your Python programming skills. \\\\\n",
        "Good Luck! : If you have any questions or require clarification on any aspect of the instructions, feel free to ask. \\\\\n",
        " \\\\\n",
        "\n",
        "Best wishes for your assignment! These instructions are crafted to provide clarity and guidance as you work through the tasks in Google Colab.\n",
        "\n",
        "\n",
        "\n",
        "\n",
        "\n",
        "\n",
        "\n"
      ],
      "metadata": {
        "id": "U2p472EZsFQh"
      }
    },
    {
      "cell_type": "markdown",
      "source": [
        "## Getting Started\n",
        "Solving these exercises will help make you a better programmer. Solve them in order, because each solution builds scaffolding, working code, and knowledge you can use on future problems. Read the directions carefully, and have fun!\n",
        "\n",
        "\n",
        "\n",
        "*   To save your work to your Google Drive, go to File then \"Save Copy in Drive\".\n",
        "*   Your own work will now appear in your Google Drive account!\n",
        "*   Work on this copy as directed"
      ],
      "metadata": {
        "id": "jGDFomGq3i87"
      }
    },
    {
      "cell_type": "markdown",
      "source": [
        "## What to do when you don't know what to do next\n",
        "- When the exercise asks you to reverse an list, the way forward is to search for \"How to reverse a list in Python\" in your favorite search engine.\n",
        "- When the exercise asks you to check if a number is even, the way forward is to search for \"how to check if a number is even in Python\".\n",
        "- When the exercise has you calculate the area of a circle, the way forward is to search for \"how to calculate the area of a circle in Python\" or \"How to get pi in Python\".\n",
        "\n",
        "😀😀"
      ],
      "metadata": {
        "id": "jZ1hWiMO4TTN"
      }
    },
    {
      "cell_type": "markdown",
      "source": [
        "## Basic Python Exercises"
      ],
      "metadata": {
        "id": "LKjbv4-Mmp3_"
      }
    },
    {
      "cell_type": "markdown",
      "source": [
        "1. Create a new list from two list \\\\\n",
        "list1 = [10, 20, 25, 30, 35] \\\\\n",
        "list2 = [40, 45, 60, 75, 90]"
      ],
      "metadata": {
        "id": "POUIXeAkoAJy"
      }
    },
    {
      "cell_type": "code",
      "source": [
        "list1 = [10, 20, 25, 30, 35]\n",
        "list2 = [40, 45, 60, 75, 90]\n",
        "list3 = list1 + list2\n",
        "print(list3)"
      ],
      "metadata": {
        "id": "083WsOfvmz3k",
        "colab": {
          "base_uri": "https://localhost:8080/"
        },
        "outputId": "f877a98f-d5c9-4faa-ec5b-1350cdf3e088"
      },
      "execution_count": null,
      "outputs": [
        {
          "output_type": "stream",
          "name": "stdout",
          "text": [
            "[10, 20, 25, 30, 35, 40, 45, 60, 75, 90]\n"
          ]
        }
      ]
    },
    {
      "cell_type": "markdown",
      "source": [
        "2. Print multiplication table from 1 to 10"
      ],
      "metadata": {
        "id": "mBuOTb3vo7SY"
      }
    },
    {
      "cell_type": "code",
      "source": [
        "for i in range(1, 11):\n",
        "    for j in range(1, 11):\n",
        "        print(i * j, end=\"\\t\")\n",
        "    print()"
      ],
      "metadata": {
        "id": "ALdwhW6uqRTB",
        "colab": {
          "base_uri": "https://localhost:8080/"
        },
        "outputId": "2ed3d846-7f49-44e3-e6bc-d48385f723d1"
      },
      "execution_count": null,
      "outputs": [
        {
          "output_type": "stream",
          "name": "stdout",
          "text": [
            "1\t2\t3\t4\t5\t6\t7\t8\t9\t10\t\n",
            "2\t4\t6\t8\t10\t12\t14\t16\t18\t20\t\n",
            "3\t6\t9\t12\t15\t18\t21\t24\t27\t30\t\n",
            "4\t8\t12\t16\t20\t24\t28\t32\t36\t40\t\n",
            "5\t10\t15\t20\t25\t30\t35\t40\t45\t50\t\n",
            "6\t12\t18\t24\t30\t36\t42\t48\t54\t60\t\n",
            "7\t14\t21\t28\t35\t42\t49\t56\t63\t70\t\n",
            "8\t16\t24\t32\t40\t48\t56\t64\t72\t80\t\n",
            "9\t18\t27\t36\t45\t54\t63\t72\t81\t90\t\n",
            "10\t20\t30\t40\t50\t60\t70\t80\t90\t100\t\n"
          ]
        }
      ]
    },
    {
      "cell_type": "markdown",
      "source": [
        "3. Print a downward Half-Pyramid Pattern\n",
        "\n",
        "0 0 0 0 0   \n",
        "0 0 0 0 <br>\n",
        "0 0 0 <br>\n",
        "0 0 <br>\n",
        "0"
      ],
      "metadata": {
        "id": "rXhutUXXqR5x"
      }
    },
    {
      "cell_type": "code",
      "source": [
        "for i in range(5, 0, -1):\n",
        "    for j in range(0, i):\n",
        "        print(\"0\", end=\" \")\n",
        "    print()"
      ],
      "metadata": {
        "id": "U9j7N1nrtw--",
        "colab": {
          "base_uri": "https://localhost:8080/"
        },
        "outputId": "eece4d8f-6b59-4a40-c09e-7ab3b7aa30d2"
      },
      "execution_count": null,
      "outputs": [
        {
          "output_type": "stream",
          "name": "stdout",
          "text": [
            "0 0 0 0 0 \n",
            "0 0 0 0 \n",
            "0 0 0 \n",
            "0 0 \n",
            "0 \n"
          ]
        }
      ]
    },
    {
      "cell_type": "markdown",
      "source": [
        " 4. Given the following assignment of the vegetables list, add \"tomato\" to the end of the list and sort them in alphabetical order.\\\n",
        "vegetables = [\"eggplant\", \"broccoli\", \"carrot\",\"cauliflower\", \"zucchini\"]"
      ],
      "metadata": {
        "id": "Re-QzSX4ugH-"
      }
    },
    {
      "cell_type": "code",
      "source": [
        "vegetables = [\"eggplant\", \"broccoli\", \"carrot\",\"cauliflower\", \"zucchini\"]\n",
        "vegetables.append(\"tomato\")\n",
        "vegetables.sort()\n",
        "print(vegetables)"
      ],
      "metadata": {
        "id": "hnA-2EIDuxEH",
        "colab": {
          "base_uri": "https://localhost:8080/"
        },
        "outputId": "59f293a3-eaf9-4fec-e82c-badb6642c85f"
      },
      "execution_count": null,
      "outputs": [
        {
          "output_type": "stream",
          "name": "stdout",
          "text": [
            "['broccoli', 'carrot', 'cauliflower', 'eggplant', 'tomato', 'zucchini']\n"
          ]
        }
      ]
    },
    {
      "cell_type": "markdown",
      "source": [
        "5. Write a function definition named is_odd that takes in a number and returns True or False if that number is odd."
      ],
      "metadata": {
        "id": "ARyaOlp8uxix"
      }
    },
    {
      "cell_type": "code",
      "source": [
        "def is_odd(num):\n",
        "    if num % 2 == 1:\n",
        "        return True\n",
        "    else:\n",
        "        return False\n",
        "print(is_odd(3))"
      ],
      "metadata": {
        "id": "OztCSuVjvACz",
        "colab": {
          "base_uri": "https://localhost:8080/"
        },
        "outputId": "e07136f0-131e-45f9-c93e-3a4cd4a1914b"
      },
      "execution_count": null,
      "outputs": [
        {
          "output_type": "stream",
          "name": "stdout",
          "text": [
            "True\n"
          ]
        }
      ]
    },
    {
      "cell_type": "markdown",
      "source": [
        "6. Write a function definition named mode that takes in sequence of numbers and returns the most commonly occuring value"
      ],
      "metadata": {
        "id": "GIAo6YfLu_AJ"
      }
    },
    {
      "cell_type": "code",
      "source": [
        "def mode(numbers):\n",
        "    counts = {}\n",
        "    for num in numbers:\n",
        "        if num in counts:\n",
        "            counts[num] += 1\n",
        "        else:\n",
        "            counts[num] = 1"
      ],
      "metadata": {
        "id": "WEikC1aTvXoS"
      },
      "execution_count": null,
      "outputs": []
    },
    {
      "cell_type": "markdown",
      "source": [
        "## Numpy Exercises"
      ],
      "metadata": {
        "id": "AKuHwB0lvZn-"
      }
    },
    {
      "cell_type": "markdown",
      "source": [
        "Exercise 1: Create a 4X2 integer array and Prints its attributes \\\\\n",
        "**Note:** The element must be a type of unsigned int16. \\\\\n",
        "And print the following Attributes: –\n",
        "\n",
        "\n",
        "\n",
        "1.   The shape of an array.\n",
        "2.   Array dimensions.\n",
        "3.   The Length of each element of the array in bytes.\n",
        "\n",
        "\n",
        "\n",
        "\n",
        "\n"
      ],
      "metadata": {
        "id": "8f2ww678vf5S"
      }
    },
    {
      "cell_type": "code",
      "source": [
        "import numpy as np\n",
        "array = np.array([[1, 2], [3, 4], [5, 6], [7, 8]], dtype=np.uint16)\n",
        "print(\"Shape of array:\", array.shape)\n",
        "print(\"Array dimensions:\", array.ndim)\n",
        "print(\"Length of each element in bytes:\", array.itemsize)"
      ],
      "metadata": {
        "id": "2YMq_rbcwTeb",
        "colab": {
          "base_uri": "https://localhost:8080/"
        },
        "outputId": "19b92d0f-c6a6-49c7-8a43-9ea47afcac8e"
      },
      "execution_count": null,
      "outputs": [
        {
          "output_type": "stream",
          "name": "stdout",
          "text": [
            "Shape of array: (4, 2)\n",
            "Array dimensions: 2\n",
            "Length of each element in bytes: 2\n"
          ]
        }
      ]
    },
    {
      "cell_type": "markdown",
      "source": [
        "Exercise 2: Following is the provided numPy array. Return array of items by taking the third column from all rows \\\\\n",
        "sampleArray = numpy.array ( [ [ 11 ,22, 33 ], [ 44, 55, 66 ], [ 77, 88, 99 ] ] )"
      ],
      "metadata": {
        "id": "jLVSC8epw0Wz"
      }
    },
    {
      "cell_type": "code",
      "source": [
        "sampleArray = np.array([[11, 22, 33], [44, 55, 66], [77, 88, 99]])\n",
        "third_column = sampleArray[:, 2]\n",
        "print(third_column)"
      ],
      "metadata": {
        "id": "UVRODBc1wyjl",
        "colab": {
          "base_uri": "https://localhost:8080/"
        },
        "outputId": "daebeda6-a479-495a-b172-f1762a78c93c"
      },
      "execution_count": null,
      "outputs": [
        {
          "output_type": "stream",
          "name": "stdout",
          "text": [
            "[33 66 99]\n"
          ]
        }
      ]
    },
    {
      "cell_type": "markdown",
      "source": [
        "Exercise 3: Sort following NumPy array \\\\\n",
        "Case 1: Sort array by the second row \\\\\n",
        "Case 2: Sort the array by the second column"
      ],
      "metadata": {
        "id": "T72G3kpRxESl"
      }
    },
    {
      "cell_type": "code",
      "source": [
        "array = np.array([[34, 43, 73], [82, 22, 12], [53, 94, 66]])\n",
        "sorted_array = np.sort(array, axis=1)\n",
        "print(sorted_array)"
      ],
      "metadata": {
        "id": "kdPN_yoaxULi",
        "colab": {
          "base_uri": "https://localhost:8080/"
        },
        "outputId": "5c723a26-4c59-4104-a248-4f5179f07514"
      },
      "execution_count": null,
      "outputs": [
        {
          "output_type": "stream",
          "name": "stdout",
          "text": [
            "[[34 43 73]\n",
            " [12 22 82]\n",
            " [53 66 94]]\n"
          ]
        }
      ]
    },
    {
      "cell_type": "markdown",
      "source": [
        "## Pandas Exercises\n",
        "In this exercise, we are using Automobile Dataset for data analysis. This Dataset has different characteristics of an auto such as body-style, wheel-base, engine-type, price, mileage, horsepower, etc. \\\\\n",
        "https://pynative.com/wp-content/uploads/2019/01/Automobile_data.csv"
      ],
      "metadata": {
        "id": "RUiLxEnkxXKF"
      }
    },
    {
      "cell_type": "markdown",
      "source": [
        "Exercise 1: From the given dataset print the first and last five rows."
      ],
      "metadata": {
        "id": "Bgvaffg70VqZ"
      }
    },
    {
      "cell_type": "code",
      "source": [
        "import pandas as pd\n",
        "df= pd.read_csv('Automobile_data.csv')\n",
        "print(df.head(5))\n",
        "print(df.tail(5))"
      ],
      "metadata": {
        "id": "RT2zrs5y2ZUB",
        "colab": {
          "base_uri": "https://localhost:8080/"
        },
        "outputId": "441db7d8-48cc-4518-8bba-6ea658554984"
      },
      "execution_count": null,
      "outputs": [
        {
          "output_type": "stream",
          "name": "stdout",
          "text": [
            "   index      company   body-style  wheel-base  length engine-type  \\\n",
            "0      0  alfa-romero  convertible        88.6   168.8        dohc   \n",
            "1      1  alfa-romero  convertible        88.6   168.8        dohc   \n",
            "2      2  alfa-romero    hatchback        94.5   171.2        ohcv   \n",
            "3      3         audi        sedan        99.8   176.6         ohc   \n",
            "4      4         audi        sedan        99.4   176.6         ohc   \n",
            "\n",
            "  num-of-cylinders  horsepower  average-mileage    price  \n",
            "0             four         111               21  13495.0  \n",
            "1             four         111               21  16500.0  \n",
            "2              six         154               19  16500.0  \n",
            "3             four         102               24  13950.0  \n",
            "4             five         115               18  17450.0  \n",
            "    index     company body-style  wheel-base  length engine-type  \\\n",
            "56     81  volkswagen      sedan        97.3   171.7         ohc   \n",
            "57     82  volkswagen      sedan        97.3   171.7         ohc   \n",
            "58     86  volkswagen      sedan        97.3   171.7         ohc   \n",
            "59     87       volvo      sedan       104.3   188.8         ohc   \n",
            "60     88       volvo      wagon       104.3   188.8         ohc   \n",
            "\n",
            "   num-of-cylinders  horsepower  average-mileage    price  \n",
            "56             four          85               27   7975.0  \n",
            "57             four          52               37   7995.0  \n",
            "58             four         100               26   9995.0  \n",
            "59             four         114               23  12940.0  \n",
            "60             four         114               23  13415.0  \n"
          ]
        }
      ]
    },
    {
      "cell_type": "markdown",
      "source": [
        "Exercise 2: Replace all column values which contain ?, n.a, or NaN with suitable values and print the updated dataset.:"
      ],
      "metadata": {
        "id": "FB-hfiNh2Z42"
      }
    },
    {
      "cell_type": "code",
      "source": [
        "pd.set_option('display.max_rows', None)\n",
        "df = pd.read_csv('Automobile_data.csv')\n",
        "df = df.replace('?', np.nan)\n",
        "df = df.replace('n.a', np.nan)\n",
        "df = df.dropna()\n",
        "print(df)"
      ],
      "metadata": {
        "id": "n8u7K1cU2x4l",
        "colab": {
          "base_uri": "https://localhost:8080/"
        },
        "outputId": "f9b04567-6b01-4ab8-e82d-314b5394e3e8"
      },
      "execution_count": null,
      "outputs": [
        {
          "output_type": "stream",
          "name": "stdout",
          "text": [
            "    index        company   body-style  wheel-base  length engine-type  \\\n",
            "0       0    alfa-romero  convertible        88.6   168.8        dohc   \n",
            "1       1    alfa-romero  convertible        88.6   168.8        dohc   \n",
            "2       2    alfa-romero    hatchback        94.5   171.2        ohcv   \n",
            "3       3           audi        sedan        99.8   176.6         ohc   \n",
            "4       4           audi        sedan        99.4   176.6         ohc   \n",
            "5       5           audi        sedan        99.8   177.3         ohc   \n",
            "6       6           audi        wagon       105.8   192.7         ohc   \n",
            "7       9            bmw        sedan       101.2   176.8         ohc   \n",
            "8      10            bmw        sedan       101.2   176.8         ohc   \n",
            "9      11            bmw        sedan       101.2   176.8         ohc   \n",
            "10     13            bmw        sedan       103.5   189.0         ohc   \n",
            "11     14            bmw        sedan       103.5   193.8         ohc   \n",
            "12     15            bmw        sedan       110.0   197.0         ohc   \n",
            "13     16      chevrolet    hatchback        88.4   141.1           l   \n",
            "14     17      chevrolet    hatchback        94.5   155.9         ohc   \n",
            "15     18      chevrolet        sedan        94.5   158.8         ohc   \n",
            "16     19          dodge    hatchback        93.7   157.3         ohc   \n",
            "17     20          dodge    hatchback        93.7   157.3         ohc   \n",
            "18     27          honda        wagon        96.5   157.1         ohc   \n",
            "19     28          honda        sedan        96.5   175.4         ohc   \n",
            "20     29          honda        sedan        96.5   169.1         ohc   \n",
            "21     30          isuzu        sedan        94.3   170.7         ohc   \n",
            "24     33         jaguar        sedan       113.0   199.6        dohc   \n",
            "25     34         jaguar        sedan       113.0   199.6        dohc   \n",
            "26     35         jaguar        sedan       102.0   191.7        ohcv   \n",
            "27     36          mazda    hatchback        93.1   159.1         ohc   \n",
            "28     37          mazda    hatchback        93.1   159.1         ohc   \n",
            "29     38          mazda    hatchback        93.1   159.1         ohc   \n",
            "30     39          mazda    hatchback        95.3   169.0       rotor   \n",
            "31     43          mazda        sedan       104.9   175.0         ohc   \n",
            "32     44  mercedes-benz        sedan       110.0   190.9         ohc   \n",
            "33     45  mercedes-benz        wagon       110.0   190.9         ohc   \n",
            "34     46  mercedes-benz        sedan       120.9   208.1        ohcv   \n",
            "35     47  mercedes-benz      hardtop       112.0   199.2        ohcv   \n",
            "36     49     mitsubishi    hatchback        93.7   157.3         ohc   \n",
            "37     50     mitsubishi    hatchback        93.7   157.3         ohc   \n",
            "38     51     mitsubishi        sedan        96.3   172.4         ohc   \n",
            "39     52     mitsubishi        sedan        96.3   172.4         ohc   \n",
            "40     53         nissan        sedan        94.5   165.3         ohc   \n",
            "41     54         nissan        sedan        94.5   165.3         ohc   \n",
            "42     55         nissan        sedan        94.5   165.3         ohc   \n",
            "43     56         nissan        wagon        94.5   170.2         ohc   \n",
            "44     57         nissan        sedan       100.4   184.6        ohcv   \n",
            "45     61        porsche      hardtop        89.5   168.9        ohcf   \n",
            "46     62        porsche  convertible        89.5   168.9        ohcf   \n",
            "48     66         toyota    hatchback        95.7   158.7         ohc   \n",
            "49     67         toyota    hatchback        95.7   158.7         ohc   \n",
            "50     68         toyota    hatchback        95.7   158.7         ohc   \n",
            "51     69         toyota        wagon        95.7   169.7         ohc   \n",
            "52     70         toyota        wagon        95.7   169.7         ohc   \n",
            "53     71         toyota        wagon        95.7   169.7         ohc   \n",
            "54     79         toyota        wagon       104.5   187.8        dohc   \n",
            "55     80     volkswagen        sedan        97.3   171.7         ohc   \n",
            "56     81     volkswagen        sedan        97.3   171.7         ohc   \n",
            "57     82     volkswagen        sedan        97.3   171.7         ohc   \n",
            "58     86     volkswagen        sedan        97.3   171.7         ohc   \n",
            "59     87          volvo        sedan       104.3   188.8         ohc   \n",
            "60     88          volvo        wagon       104.3   188.8         ohc   \n",
            "\n",
            "   num-of-cylinders  horsepower  average-mileage    price  \n",
            "0              four         111               21  13495.0  \n",
            "1              four         111               21  16500.0  \n",
            "2               six         154               19  16500.0  \n",
            "3              four         102               24  13950.0  \n",
            "4              five         115               18  17450.0  \n",
            "5              five         110               19  15250.0  \n",
            "6              five         110               19  18920.0  \n",
            "7              four         101               23  16430.0  \n",
            "8              four         101               23  16925.0  \n",
            "9               six         121               21  20970.0  \n",
            "10              six         182               16  30760.0  \n",
            "11              six         182               16  41315.0  \n",
            "12              six         182               15  36880.0  \n",
            "13            three          48               47   5151.0  \n",
            "14             four          70               38   6295.0  \n",
            "15             four          70               38   6575.0  \n",
            "16             four          68               31   6377.0  \n",
            "17             four          68               31   6229.0  \n",
            "18             four          76               30   7295.0  \n",
            "19             four         101               24  12945.0  \n",
            "20             four         100               25  10345.0  \n",
            "21             four          78               24   6785.0  \n",
            "24              six         176               15  32250.0  \n",
            "25              six         176               15  35550.0  \n",
            "26           twelve         262               13  36000.0  \n",
            "27             four          68               30   5195.0  \n",
            "28             four          68               31   6095.0  \n",
            "29             four          68               31   6795.0  \n",
            "30              two         101               17  11845.0  \n",
            "31             four          72               31  18344.0  \n",
            "32             five         123               22  25552.0  \n",
            "33             five         123               22  28248.0  \n",
            "34            eight         184               14  40960.0  \n",
            "35            eight         184               14  45400.0  \n",
            "36             four          68               37   5389.0  \n",
            "37             four          68               31   6189.0  \n",
            "38             four          88               25   6989.0  \n",
            "39             four          88               25   8189.0  \n",
            "40             four          55               45   7099.0  \n",
            "41             four          69               31   6649.0  \n",
            "42             four          69               31   6849.0  \n",
            "43             four          69               31   7349.0  \n",
            "44              six         152               19  13499.0  \n",
            "45              six         207               17  34028.0  \n",
            "46              six         207               17  37028.0  \n",
            "48             four          62               35   5348.0  \n",
            "49             four          62               31   6338.0  \n",
            "50             four          62               31   6488.0  \n",
            "51             four          62               31   6918.0  \n",
            "52             four          62               27   7898.0  \n",
            "53             four          62               27   8778.0  \n",
            "54              six         156               19  15750.0  \n",
            "55             four          52               37   7775.0  \n",
            "56             four          85               27   7975.0  \n",
            "57             four          52               37   7995.0  \n",
            "58             four         100               26   9995.0  \n",
            "59             four         114               23  12940.0  \n",
            "60             four         114               23  13415.0  \n"
          ]
        }
      ]
    },
    {
      "cell_type": "markdown",
      "source": [
        "Exercise 5: Count total cars per company and print them\n",
        "\n",
        "\n"
      ],
      "metadata": {
        "id": "67ErI6He2wz6"
      }
    },
    {
      "cell_type": "code",
      "source": [
        "pd.set_option('display.max_rows', None)\n",
        "df = pd.read_csv('Automobile_data.csv')\n",
        "company_counts = df['company'].value_counts()\n",
        "print(company_counts)"
      ],
      "metadata": {
        "id": "8H6ytVXD26Ae",
        "colab": {
          "base_uri": "https://localhost:8080/"
        },
        "outputId": "1cb8e537-1ce9-450c-c5ee-b8a25bba09c0"
      },
      "execution_count": null,
      "outputs": [
        {
          "output_type": "stream",
          "name": "stdout",
          "text": [
            "company\n",
            "toyota           7\n",
            "bmw              6\n",
            "mazda            5\n",
            "nissan           5\n",
            "mercedes-benz    4\n",
            "audi             4\n",
            "volkswagen       4\n",
            "mitsubishi       4\n",
            "chevrolet        3\n",
            "jaguar           3\n",
            "isuzu            3\n",
            "honda            3\n",
            "porsche          3\n",
            "alfa-romero      3\n",
            "dodge            2\n",
            "volvo            2\n",
            "Name: count, dtype: int64\n"
          ]
        }
      ]
    },
    {
      "cell_type": "markdown",
      "source": [
        "## Matplotlib Exercises"
      ],
      "metadata": {
        "id": "OcyPTwrWxdXt"
      }
    },
    {
      "cell_type": "markdown",
      "source": [
        "Use the following CSV file for this exercise. Read this file using Pandas or NumPy or using in-built matplotlib function. \\\\\n",
        "https://pynative.com/wp-content/uploads/2019/01/company_sales_data.csv"
      ],
      "metadata": {
        "id": "f0JDeA8Lxu-8"
      }
    },
    {
      "cell_type": "markdown",
      "source": [
        "Exercise 1: Read Total profit of all months and show it using a line plot \\\\\n",
        "Total profit data provided for each month. Generated line plot must include the following properties: –\n",
        "\n",
        "X label name = Month Number \\\\\n",
        "Y label name = Total profit \\\\\n",
        "\n",
        "\n"
      ],
      "metadata": {
        "id": "zYDZqjEzyoFN"
      }
    },
    {
      "cell_type": "code",
      "source": [
        "import matplotlib.pyplot as plt\n",
        "import pandas as pd\n",
        "df = pd.read_csv('company_sales_data.csv')\n",
        "plt.plot(df['month_number'], df['total_profit'])\n",
        "plt.xlabel('Month Number')\n",
        "plt.ylabel('Total profit')"
      ],
      "metadata": {
        "id": "wp_s9Dh50MQX",
        "colab": {
          "base_uri": "https://localhost:8080/",
          "height": 466
        },
        "outputId": "47004ff1-46f1-43e5-ea3e-b5dfeede1a6c"
      },
      "execution_count": null,
      "outputs": [
        {
          "output_type": "execute_result",
          "data": {
            "text/plain": [
              "Text(0, 0.5, 'Total profit')"
            ]
          },
          "metadata": {},
          "execution_count": 18
        },
        {
          "output_type": "display_data",
          "data": {
            "text/plain": [
              "<Figure size 640x480 with 1 Axes>"
            ],
            "image/png": "[encoded data removed]"
          },
          "metadata": {}
        }
      ]
    },
    {
      "cell_type": "markdown",
      "source": [
        "Exercise : Read face cream and facewash product sales data and show it using the bar chart \\\\\n",
        "The bar chart should display the number of units sold per month for each product. \\\\\n",
        "Add a separate bar for each product in the same chart."
      ],
      "metadata": {
        "id": "muEpI78E0LjF"
      }
    },
    {
      "cell_type": "code",
      "source": [
        "pd.set_option('display.max_rows', None)\n",
        "df = pd.read_csv('company_sales_data.csv')\n",
        "plt.bar(df['month_number'], df['facecream'])\n",
        "plt.bar(df['month_number'], df['facewash'])\n",
        "plt.xlabel('Month Number')\n",
        "plt.ylabel('Sales')\n",
        "plt.legend(['Facecream', 'Facewash'])"
      ],
      "metadata": {
        "id": "JmR3PAE71gIi",
        "colab": {
          "base_uri": "https://localhost:8080/",
          "height": 466
        },
        "outputId": "21690409-eb92-4df5-b255-222c47bf1a2f"
      },
      "execution_count": null,
      "outputs": [
        {
          "output_type": "execute_result",
          "data": {
            "text/plain": [
              "<matplotlib.legend.Legend at 0x7ce3ac335c10>"
            ]
          },
          "metadata": {},
          "execution_count": 19
        },
        {
          "output_type": "display_data",
          "data": {
            "text/plain": [
              "<Figure size 640x480 with 1 Axes>"
            ],
            "image/png": "[encoded data removed]"
          },
          "metadata": {}
        }
      ]
    },
    {
      "cell_type": "code",
      "source": [],
      "metadata": {
        "id": "IiMLnaFQxXLm"
      },
      "execution_count": null,
      "outputs": []
    }
  ]
}
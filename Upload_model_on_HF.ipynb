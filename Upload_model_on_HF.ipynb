{
  "nbformat": 4,
  "nbformat_minor": 0,
  "metadata": {
    "colab": {
      "provenance": [],
      "gpuType": "T4",
      "authorship_tag": "ABX9TyOCBgPwvlqcEDiLfNrKtFVX",
      "include_colab_link": true
    },
    "kernelspec": {
      "name": "python3",
      "display_name": "Python 3"
    },
    "language_info": {
      "name": "python"
    },
    "accelerator": "GPU"
  },
  "cells": [
    {
      "cell_type": "markdown",
      "metadata": {
        "id": "view-in-github",
        "colab_type": "text"
      },
      "source": [
        "<a href=\"https://colab.research.google.com/github/Abhishek-1-Kumar/fake_news_detection/blob/main/Upload_model_on_HF.ipynb\" target=\"_parent\"><img src=\"https://colab.research.google.com/assets/colab-badge.svg\" alt=\"Open In Colab\"/></a>"
      ]
    },
    {
      "cell_type": "code",
      "source": [
        "#mount drive\n",
        "from google.colab import drive\n",
        "drive.mount('/content/drive')"
      ],
      "metadata": {
        "colab": {
          "base_uri": "https://localhost:8080/"
        },
        "id": "b5km8XTOjaS3",
        "outputId": "ac9390b2-5b15-4517-98ff-529253f8f684"
      },
      "execution_count": null,
      "outputs": [
        {
          "output_type": "stream",
          "name": "stdout",
          "text": [
            "Mounted at /content/drive\n"
          ]
        }
      ]
    },
    {
      "cell_type": "code",
      "execution_count": null,
      "metadata": {
        "id": "bcXLUWIpd1sa"
      },
      "outputs": [],
      "source": [
        "!pip install -q huggingface_hub safetensors\n"
      ]
    },
    {
      "cell_type": "code",
      "source": [
        "import os\n",
        "from huggingface_hub import login\n",
        "\n",
        "# Replace only inside the quotes (do NOT expose your token elsewhere!)\n",
        "os.environ[\"HF_TOKEN\"] = \"hf_####################################\"\n",
        "\n",
        "# Secure login to Hugging Face\n",
        "login(token=os.environ[\"HF_TOKEN\"])\n"
      ],
      "metadata": {
        "colab": {
          "base_uri": "https://localhost:8080/"
        },
        "id": "kvKooMHIhWma",
        "outputId": "c38def89-7677-4992-e2c8-73e82009821f"
      },
      "execution_count": null,
      "outputs": [
        {
          "output_type": "stream",
          "name": "stderr",
          "text": [
            "Note: Environment variable`HF_TOKEN` is set and is the current active token independently from the token you've just configured.\n",
            "WARNING:huggingface_hub._login:Note: Environment variable`HF_TOKEN` is set and is the current active token independently from the token you've just configured.\n"
          ]
        }
      ]
    },
    {
      "cell_type": "code",
      "source": [
        "from huggingface_hub import HfApi\n",
        "\n",
        "api = HfApi(token=os.getenv(\"HF_TOKEN\"))\n",
        "api.upload_folder(\n",
        "    folder_path=\"/content/drive/MyDrive/fake_news_detection/model\",\n",
        "    repo_id=\"shi13u/fake_news_detection_bert\",\n",
        "    repo_type=\"model\",\n",
        ")\n"
      ],
      "metadata": {
        "id": "8fVqkSECghK8"
      },
      "execution_count": null,
      "outputs": []
    },
    {
      "cell_type": "code",
      "source": [],
      "metadata": {
        "id": "XEg1hol-tz87"
      },
      "execution_count": null,
      "outputs": []
    }
  ]
}